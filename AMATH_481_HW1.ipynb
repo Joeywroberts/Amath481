{
 "cells": [
  {
   "cell_type": "markdown",
   "id": "956ad4af",
   "metadata": {},
   "source": [
    "# Question 1"
   ]
  },
  {
   "cell_type": "code",
   "execution_count": 26,
   "id": "d34e0008",
   "metadata": {},
   "outputs": [],
   "source": [
    "import numpy as np\n",
    "import matplotlib.pyplot as plt"
   ]
  },
  {
   "cell_type": "code",
   "execution_count": 31,
   "id": "3c101cfc",
   "metadata": {},
   "outputs": [
    {
     "name": "stdout",
     "output_type": "stream",
     "text": [
      "Converged after 11 iterations.\n",
      "[-1.6, 3.1979951385210694, 2.4644024441424284, 1.2035359007112925, 0.6502014632644292, -0.1169233418248703, -0.6605234854521386, -0.5219265439062168, -0.5665527428708069, -0.5707465821813341, -0.57078961788788, -0.57078962246829]\n"
     ]
    }
   ],
   "source": [
    "#Define the function\n",
    "def f(x):\n",
    "    return x * np.sin(3*x) - np.exp(x)\n",
    "\n",
    "#Define the derivative of f(x)\n",
    "def f_prime(x):\n",
    "    return np.sin(3*x) + 3*x * np.cos(3*x) - np.exp(x)\n",
    "\n",
    "#Newton-Raphson method\n",
    "def newton_raphson(x0, tol=1e-6, max_iter=100):\n",
    "    x = x0\n",
    "    tracker = [-1.6]\n",
    "    for i in range(max_iter):\n",
    "        fx = f(x)\n",
    "        fpx = f_prime(x)\n",
    "        if abs(fpx) < 1e-12:  #To avoid division by a very small number\n",
    "            print(\"Derivative too small, stopping iteration.\")\n",
    "            return None\n",
    "        x_new = x - fx / fpx\n",
    "        tracker.append(x_new)\n",
    "        if abs(x_new - x) < tol:  #Check for convergence\n",
    "            print(f\"Converged after {i+1} iterations.\")\n",
    "            return x_new, tracker, i+1\n",
    "        x = x_new\n",
    "    print(\"Did not converge within the maximum number of iterations.\")\n",
    "    return None\n",
    "\n",
    "# Initial guess\n",
    "x1 = -1.6\n",
    "sol_nr = newton_raphson(x1)\n",
    "\n",
    "A1 = sol_nr[1]\n",
    "print(A1)"
   ]
  },
  {
   "cell_type": "code",
   "execution_count": 32,
   "id": "0552bf78",
   "metadata": {},
   "outputs": [
    {
     "name": "stdout",
     "output_type": "stream",
     "text": [
      "Converged after 17 iterations.\n",
      "[-0.55, -0.625, -0.5875, -0.5687500000000001, -0.578125, -0.5734375, -0.5710937500000001, -0.5699218750000001, -0.5705078125, -0.57080078125, -0.570654296875, -0.5707275390625, -0.57076416015625, -0.570782470703125, -0.5707916259765625, -0.5707870483398438, -0.5707893371582031]\n"
     ]
    }
   ],
   "source": [
    "# Midpoint (Bisection) method\n",
    "def bisection_method(x1, x2, tol=1e-6, max_iter=100):\n",
    "    tracker2 = []\n",
    "    if f(x1) * f(x2) > 0:\n",
    "        print(\"The function does not change sign in the given interval. No root can be found.\")\n",
    "        return None\n",
    "    \n",
    "    for i in range(max_iter):\n",
    "        x_mid = (x1 + x2) / 2\n",
    "        tracker2.append(x_mid)\n",
    "        f_mid = f(x_mid)\n",
    "        \n",
    "        # Check for convergence\n",
    "        if abs(f_mid) < tol:\n",
    "            print(f\"Converged after {i+1} iterations.\")\n",
    "            return x_mid , tracker2 ,i+1\n",
    "        \n",
    "        # Update the interval\n",
    "        if f(x1) * f_mid < 0:\n",
    "            x2 = x_mid  # Root is in the left subinterval\n",
    "        else:\n",
    "            x1 = x_mid  # Root is in the right subinterval\n",
    "\n",
    "    print(\"Did not converge within the maximum number of iterations.\")\n",
    "    return None\n",
    "\n",
    "# Initial interval [x1, x2]\n",
    "x1 = -0.7\n",
    "x2 = -0.4\n",
    "sol_mid = bisection_method(x1, x2)\n",
    "\n",
    "A2 = sol_mid[1]\n",
    "print(A2)\n"
   ]
  },
  {
   "cell_type": "code",
   "execution_count": 33,
   "id": "dc0dfc74",
   "metadata": {},
   "outputs": [
    {
     "name": "stdout",
     "output_type": "stream",
     "text": [
      "[11, 17]\n"
     ]
    }
   ],
   "source": [
    "A3 = [sol_nr[2], sol_mid[2]]\n",
    "print(A3)"
   ]
  },
  {
   "cell_type": "markdown",
   "id": "fde98188",
   "metadata": {},
   "source": [
    "# Question 2"
   ]
  },
  {
   "cell_type": "code",
   "execution_count": 46,
   "id": "4475c47b",
   "metadata": {},
   "outputs": [
    {
     "name": "stdout",
     "output_type": "stream",
     "text": [
      "[[ 3]\n",
      " [-4]]\n"
     ]
    }
   ],
   "source": [
    "A = np.array([[1,2],[-1,1]])\n",
    "B = np.array([[2,0],[0,2]])\n",
    "C = np.array([[2,0,-3],[0,0,-1]])\n",
    "D = np.array([[1,2],[2,3],[-1,0]])\n",
    "\n",
    "x = np.array([1, 0])\n",
    "y = np.array([0,1])\n",
    "z = np.array([1,2,-1])\n",
    "\n",
    "A4 = A+B\n",
    "A5 = 3*x - 4*y\n",
    "A6 = np.dot(A, x).reshape(-1)\n",
    "A7 = np.dot(B, (x-y)).reshape(-1)\n",
    "A8 = np.dot(D, x).reshape(-1)\n",
    "A9 = (np.dot(D, y) + z).reshape(-1)\n",
    "A10 = A@B\n",
    "A11 = B@C\n",
    "A12 = C@D\n",
    "\n",
    "print(A5)"
   ]
  },
  {
   "cell_type": "code",
   "execution_count": null,
   "id": "7bd7f974",
   "metadata": {},
   "outputs": [],
   "source": []
  }
 ],
 "metadata": {
  "kernelspec": {
   "display_name": "Python 3 (ipykernel)",
   "language": "python",
   "name": "python3"
  },
  "language_info": {
   "codemirror_mode": {
    "name": "ipython",
    "version": 3
   },
   "file_extension": ".py",
   "mimetype": "text/x-python",
   "name": "python",
   "nbconvert_exporter": "python",
   "pygments_lexer": "ipython3",
   "version": "3.11.5"
  }
 },
 "nbformat": 4,
 "nbformat_minor": 5
}
