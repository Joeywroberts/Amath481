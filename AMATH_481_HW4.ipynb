{
 "cells": [
  {
   "cell_type": "code",
   "execution_count": 1,
   "id": "4b8eeb76",
   "metadata": {},
   "outputs": [],
   "source": [
    "# Joey Roberts - Amath 481 - HW4\n",
    "\n",
    "import numpy as np\n",
    "from scipy.sparse import spdiags\n",
    "\n",
    "# Setup\n",
    "m = 8    # N value in x and y directions\n",
    "n = m * m  # Total matirx size\n",
    "dx = 20 / m  # Spacing of grid with a domain of 20 (-10,10)\n",
    "\n",
    "d1 = np.ones((n, 1)) # Vectors of zeros and ones for later creating diagonals\n",
    "d2 = np.ones((n, 1)) \n",
    "d3 = np.zeros((n, 1))\n",
    "d4 = np.zeros((n, 1))  \n",
    "d5 = np.zeros((n, 1))\n",
    "\n",
    "for j in range(1, m+1):\n",
    "    d2[m*j-1] = 0  # Overwrite every m^th value with zero in d2 ot a one in d4\n",
    "    d4[m*j-1] = 1  \n",
    "\n",
    "d3[1:n] = d2[0:n-1]\n",
    "d3[0] = d2[n-1]\n",
    "\n",
    "d5[1:n] = d4[0:n-1]\n",
    "d5[0] = d4[n-1]\n",
    "\n",
    "# Matrix A\n",
    "# Define diagonals as vectors and their offsets before creating the matrix\n",
    "diagonals = [d1.flatten(), d1.flatten(), d5.flatten(), d2.flatten(), -4 * d1.flatten(), d3.flatten(), d4.flatten(), d1.flatten(), d1.flatten()]\n",
    "offsets = [-(n-m), -m, -m+1, -1, 0, 1, m-1, m, (n-m)]\n",
    "diagsA = spdiags(diagonals, offsets, n, n)\n",
    "A1 = diagsA.toarray() / dx**2\n",
    "\n",
    "# Matrix B\n",
    "diagonals = [d1.flatten(), -d1.flatten(), d1.flatten(), -d1.flatten()]\n",
    "offsets = [-(n-m), -m, m, (n-m)]\n",
    "diagsB = spdiags(diagonals, offsets, n, n)\n",
    "A2 = diagsB.toarray() / (2*dx)\n",
    "\n",
    "# Matrix C\n",
    "diagonals = [d5.flatten(), -d2.flatten(), d3.flatten(), -d4.flatten()]\n",
    "offsets = [ -m+1, -1, 1, m-1]\n",
    "diagsC = spdiags(diagonals, offsets, n, n)\n",
    "A3 = diagsC.toarray() / (2*dx)"
   ]
  }
 ],
 "metadata": {
  "kernelspec": {
   "display_name": "Python 3 (ipykernel)",
   "language": "python",
   "name": "python3"
  },
  "language_info": {
   "codemirror_mode": {
    "name": "ipython",
    "version": 3
   },
   "file_extension": ".py",
   "mimetype": "text/x-python",
   "name": "python",
   "nbconvert_exporter": "python",
   "pygments_lexer": "ipython3",
   "version": "3.11.5"
  }
 },
 "nbformat": 4,
 "nbformat_minor": 5
}
